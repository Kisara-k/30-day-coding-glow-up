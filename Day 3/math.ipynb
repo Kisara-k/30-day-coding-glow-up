{
 "cells": [
  {
   "cell_type": "code",
   "execution_count": 5,
   "metadata": {},
   "outputs": [],
   "source": [
    "def ends_in(n,pA):\n",
    "    if n < 2:\n",
    "        return 0\n",
    "    return continue_for(n-1, pA, \"A\") * pA + continue_for(n-1, pA, \"B\") * (1-pA)"
   ]
  },
  {
   "cell_type": "code",
   "execution_count": 6,
   "metadata": {},
   "outputs": [],
   "source": [
    "def continue_for(n, pA, letter):\n",
    "    if n%2 == 0:\n",
    "        return pow(pA*(1-pA), n//2)\n",
    "    if letter == \"A\":\n",
    "        return pow(pA*(1-pA), (n-1)//2)*pA\n",
    "    if letter == \"B\":\n",
    "        return pow(pA*(1-pA), (n-1)//2)*(1-pA)"
   ]
  },
  {
   "cell_type": "code",
   "execution_count": 12,
   "metadata": {},
   "outputs": [
    {
     "data": {
      "text/plain": [
       "2.857142857142858"
      ]
     },
     "execution_count": 12,
     "metadata": {},
     "output_type": "execute_result"
    }
   ],
   "source": [
    "EX = 0\n",
    "\n",
    "for i in range(10000):\n",
    "    EX += i*ends_in(i,1/3)\n",
    "\n",
    "EX"
   ]
  },
  {
   "cell_type": "code",
   "execution_count": null,
   "metadata": {},
   "outputs": [],
   "source": []
  },
  {
   "cell_type": "code",
   "execution_count": null,
   "metadata": {},
   "outputs": [],
   "source": []
  }
 ],
 "metadata": {
  "kernelspec": {
   "display_name": "Python 3",
   "language": "python",
   "name": "python3"
  },
  "language_info": {
   "codemirror_mode": {
    "name": "ipython",
    "version": 3
   },
   "file_extension": ".py",
   "mimetype": "text/x-python",
   "name": "python",
   "nbconvert_exporter": "python",
   "pygments_lexer": "ipython3",
   "version": "3.12.1"
  }
 },
 "nbformat": 4,
 "nbformat_minor": 2
}
