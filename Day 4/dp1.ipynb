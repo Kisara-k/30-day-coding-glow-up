{
 "cells": [
  {
   "cell_type": "code",
   "execution_count": 8,
   "metadata": {},
   "outputs": [],
   "source": [
    "import time\n",
    "import sys\n",
    "sys.setrecursionlimit(10**9)"
   ]
  },
  {
   "cell_type": "code",
   "execution_count": 7,
   "metadata": {},
   "outputs": [
    {
     "data": {
      "text/plain": [
       "70"
      ]
     },
     "execution_count": 7,
     "metadata": {},
     "output_type": "execute_result"
    }
   ],
   "source": [
    "def travel_grid(m,n,dp = None):\n",
    "    if not dp:\n",
    "        #dp = [[None]*n]*m                  # Creates references\n",
    "        dp = [[None]*n for _ in range(m)]   # This works\n",
    "        #dp = [[None for _ in range(n)] for _ in range(m)]\n",
    "        m -= 1\n",
    "        n -= 1\n",
    "        dp[0][0] = 1\n",
    "    \n",
    "    if dp[m][n] != None:     return dp[m][n]\n",
    "\n",
    "    if m == 0:\n",
    "        dp[m][n] = travel_grid(m,n-1, dp)\n",
    "    elif n == 0:\n",
    "        dp[m][n] = travel_grid(m-1,n, dp)\n",
    "    else:\n",
    "        dp[m][n] = travel_grid(m,n-1, dp) + travel_grid(m-1,n, dp)\n",
    "\n",
    "    return dp[m][n]\n",
    "\n",
    "travel_grid(5,5)"
   ]
  },
  {
   "cell_type": "code",
   "execution_count": 13,
   "metadata": {},
   "outputs": [],
   "source": [
    "def sum_to(n):\n",
    "    if n == 1:\n",
    "        return 1\n",
    "    return n + sum_to(n-1)"
   ]
  },
  {
   "cell_type": "code",
   "execution_count": 16,
   "metadata": {},
   "outputs": [],
   "source": [
    "def dp_sum_to(n):\n",
    "    dp = [None for _ in range(n+1)]\n",
    "    dp[0] = 0\n",
    "    for i in range(1,n+1):\n",
    "        dp[i] = dp[i-1] + i\n",
    "    return dp[n]"
   ]
  },
  {
   "cell_type": "code",
   "execution_count": 17,
   "metadata": {},
   "outputs": [
    {
     "data": {
      "text/plain": [
       "5050"
      ]
     },
     "execution_count": 17,
     "metadata": {},
     "output_type": "execute_result"
    }
   ],
   "source": [
    "dp_sum_to(100)"
   ]
  },
  {
   "cell_type": "code",
   "execution_count": 18,
   "metadata": {},
   "outputs": [],
   "source": [
    "def sum_of_sums(n):\n",
    "    if n == 1:\n",
    "        return sum_to(1)\n",
    "    return sum_to(n) + sum_of_sums(n-1)\n",
    "\n",
    "def dp_sum_of_sums(n):\n",
    "    dp = [None for _ in range(n+1)]\n",
    "    dp [0] = 0\n",
    "    for i in range(1,n+1):\n",
    "        dp[i] = dp[i-1] + dp_sum_to(i)\n",
    "    return dp[n]"
   ]
  },
  {
   "cell_type": "code",
   "execution_count": 20,
   "metadata": {},
   "outputs": [
    {
     "data": {
      "text/plain": [
       "5.717354774475098"
      ]
     },
     "execution_count": 20,
     "metadata": {},
     "output_type": "execute_result"
    }
   ],
   "source": [
    "start = time.time()\n",
    "sum_of_sums(10000)\n",
    "end = time.time()\n",
    "end - start"
   ]
  },
  {
   "cell_type": "code",
   "execution_count": 21,
   "metadata": {},
   "outputs": [
    {
     "data": {
      "text/plain": [
       "4.346466302871704"
      ]
     },
     "execution_count": 21,
     "metadata": {},
     "output_type": "execute_result"
    }
   ],
   "source": [
    "start = time.time()\n",
    "dp_sum_of_sums(10000)   # Memory Overhead?\n",
    "end = time.time()\n",
    "end - start"
   ]
  },
  {
   "cell_type": "code",
   "execution_count": 22,
   "metadata": {},
   "outputs": [],
   "source": [
    "# Not an optimization\n",
    "\n",
    "# def sum_of_sums(n, dp = None):\n",
    "#     if n == 1:\n",
    "#         return sum_to(1)\n",
    "#     if not dp:\n",
    "#         dp = [None for _ in range(n+1)]\n",
    "#     if not dp[n]:\n",
    "#         dp[n] = sum_to(n)\n",
    "#     return dp[n] + sum_of_sums(n-1, dp)"
   ]
  },
  {
   "cell_type": "code",
   "execution_count": null,
   "metadata": {},
   "outputs": [],
   "source": []
  }
 ],
 "metadata": {
  "kernelspec": {
   "display_name": "Python 3",
   "language": "python",
   "name": "python3"
  },
  "language_info": {
   "codemirror_mode": {
    "name": "ipython",
    "version": 3
   },
   "file_extension": ".py",
   "mimetype": "text/x-python",
   "name": "python",
   "nbconvert_exporter": "python",
   "pygments_lexer": "ipython3",
   "version": "3.12.1"
  }
 },
 "nbformat": 4,
 "nbformat_minor": 2
}
