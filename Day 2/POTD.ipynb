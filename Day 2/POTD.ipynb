{
 "cells": [
  {
   "cell_type": "markdown",
   "metadata": {},
   "source": [
    "A cat has nine lives. A witch decided to have cats ninety-eight years ago and as such it spawned nine cats, all of which would be in their first lives.\n",
    "\n",
    "If a cat died and had a remaining life, its next incarnation would be spawned by the witch. If a cat died for the ninth time, it would be gone and the witch would not acquire another cat.\n",
    "\n",
    "The witch also cast a spell that extends the cats' lifespan but it is imperfect. Once every nine years one of the cats would die (with the first death eighty-nine years ago) and that would be the only time a cat died. Fate picks the cat randomly, independent from how long each cat has been alive at the moment.\n",
    "\n",
    "What is the probability that the witch still currently has nine cats? Give the exact value.\n",
    "\n"
   ]
  },
  {
   "cell_type": "markdown",
   "metadata": {},
   "source": [
    "In total, there will be 10 deaths, from 89, 80, ..., 8\n",
    "\n",
    "We can assume a cat can be chosen for death even after they died, because every event in which a cat has died 9 times, further calculations don't matter.\n",
    "\n",
    "So for each cat, there's a 1/9 chance each year of losing a life."
   ]
  },
  {
   "cell_type": "code",
   "execution_count": 4,
   "metadata": {},
   "outputs": [
    {
     "data": {
      "text/plain": [
       "43353"
      ]
     },
     "execution_count": 4,
     "metadata": {},
     "output_type": "execute_result"
    }
   ],
   "source": [
    "def count(a, b, n):\n",
    "    # dp[i][j] represents the number of ways to distribute i objects across j groups\n",
    "    dp = [[0 for _ in range(b + 1)] for _ in range(a + 1)]\n",
    "    \n",
    "    # Base case: There is 1 way to distribute 0 objects across any number of groups\n",
    "    for j in range(b + 1):\n",
    "        dp[0][j] = 1\n",
    "    \n",
    "    # Fill the dp table\n",
    "    for i in range(1, a + 1):\n",
    "        for j in range(1, b + 1):\n",
    "            for k in range(min(i, n) + 1):  # For each group, try all possible object counts up to n\n",
    "                dp[i][j] += dp[i - k][j - 1]\n",
    "    \n",
    "    return dp[a][b]\n",
    "\n",
    "# Calculate the number of ways for a=10 objects, b=9 groups, n=7 max objects per group\n",
    "count(10, 9, 7)"
   ]
  },
  {
   "cell_type": "code",
   "execution_count": 7,
   "metadata": {},
   "outputs": [
    {
     "data": {
      "text/plain": [
       "43749"
      ]
     },
     "execution_count": 7,
     "metadata": {},
     "output_type": "execute_result"
    }
   ],
   "source": [
    "count(10, 9, 9)"
   ]
  },
  {
   "cell_type": "code",
   "execution_count": null,
   "metadata": {},
   "outputs": [],
   "source": []
  }
 ],
 "metadata": {
  "kernelspec": {
   "display_name": "Python 3",
   "language": "python",
   "name": "python3"
  },
  "language_info": {
   "codemirror_mode": {
    "name": "ipython",
    "version": 3
   },
   "file_extension": ".py",
   "mimetype": "text/x-python",
   "name": "python",
   "nbconvert_exporter": "python",
   "pygments_lexer": "ipython3",
   "version": "3.12.1"
  }
 },
 "nbformat": 4,
 "nbformat_minor": 2
}
