{
 "cells": [
  {
   "cell_type": "code",
   "execution_count": 42,
   "metadata": {},
   "outputs": [],
   "source": [
    "class Node:\n",
    "    def __init__(self, label):\n",
    "        self.label = label\n",
    "        # self.neighbors = {}  This creates an empty dict\n",
    "        self.neighbors = set()"
   ]
  },
  {
   "cell_type": "code",
   "execution_count": 64,
   "metadata": {},
   "outputs": [],
   "source": [
    "class Graph:\n",
    "    def __init__(self, length):\n",
    "        self.length = length\n",
    "        self.nodes = [Node(i+1) for i in range(length)]\n",
    "\n",
    "    def addEdge(self, u, v):\n",
    "        self.nodes[u-1].neighbors.add(v-1)\n",
    "        self.nodes[v-1].neighbors.add(u-1)\n",
    "\n",
    "    def print(self):\n",
    "        for i in range(self.length):\n",
    "            print(self.nodes[i].label, \"-->\", end = \" \")\n",
    "            for j in self.nodes[i].neighbors:\n",
    "                print(self.nodes[j].label, end = \" \")\n",
    "                #print(j, end = \" \")\n",
    "            print()\n",
    "            \n",
    "    def bfs(self, start_index):\n",
    "        visited = set()\n",
    "        to_visit = []\n",
    "\n",
    "        bfs_list = []\n",
    "\n",
    "        start = self.nodes[start_index-1]\n",
    "        visited.add(start)\n",
    "        to_visit.append(start)\n",
    "\n",
    "        while to_visit:\n",
    "            current = to_visit[0]\n",
    "            to_visit = to_visit[1:]\n",
    "\n",
    "            bfs_list.append(current.label)\n",
    "\n",
    "            for loc in current.neighbors:\n",
    "                neighbor = self.nodes[loc]\n",
    "                if neighbor not in visited:\n",
    "                    to_visit.append(neighbor)\n",
    "                    visited.add(neighbor)\n",
    "            \n",
    "        return bfs_list\n",
    "\n",
    "    def dfs(self, start_index):\n",
    "        visited = set()\n",
    "        return self._dfs(self.nodes[start_index-1], visited)\n",
    "\n",
    "    def _dfs(self, start, visited):\n",
    "        visited.add(start)\n",
    "        dfs_list = [start.label]\n",
    "\n",
    "        for loc in start.neighbors:\n",
    "            neighbor = self.nodes[loc]\n",
    "            if neighbor not in visited:\n",
    "                dfs_list.extend(self._dfs(neighbor, visited))\n",
    "        \n",
    "        return dfs_list"
   ]
  },
  {
   "cell_type": "code",
   "execution_count": 67,
   "metadata": {},
   "outputs": [
    {
     "name": "stdout",
     "output_type": "stream",
     "text": [
      "1 --> 2 4 \n",
      "2 --> 1 2 \n",
      "3 --> 5 \n",
      "4 --> 1 \n",
      "5 --> 3 \n",
      "\n",
      "[2, 1, 4]\n",
      "[2, 1, 4]\n"
     ]
    }
   ],
   "source": [
    "graph = Graph(5)\n",
    "graph.addEdge(1,2)\n",
    "graph.addEdge(1,2)\n",
    "graph.addEdge(3,5)\n",
    "graph.addEdge(1,4)\n",
    "graph.addEdge(2,2)\n",
    "graph.print()\n",
    "print()\n",
    "print(graph.dfs(2))\n",
    "print(graph.bfs(2))"
   ]
  },
  {
   "cell_type": "code",
   "execution_count": null,
   "metadata": {},
   "outputs": [],
   "source": []
  }
 ],
 "metadata": {
  "kernelspec": {
   "display_name": "Python 3",
   "language": "python",
   "name": "python3"
  },
  "language_info": {
   "codemirror_mode": {
    "name": "ipython",
    "version": 3
   },
   "file_extension": ".py",
   "mimetype": "text/x-python",
   "name": "python",
   "nbconvert_exporter": "python",
   "pygments_lexer": "ipython3",
   "version": "3.12.1"
  }
 },
 "nbformat": 4,
 "nbformat_minor": 2
}
