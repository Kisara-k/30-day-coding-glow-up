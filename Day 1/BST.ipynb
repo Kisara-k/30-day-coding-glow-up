{
 "cells": [
  {
   "cell_type": "code",
   "execution_count": 24,
   "metadata": {},
   "outputs": [],
   "source": [
    "class Node:\n",
    "    def __init__(self, key):\n",
    "        self.left = None\n",
    "        self.right = None\n",
    "        self.val = key"
   ]
  },
  {
   "cell_type": "code",
   "execution_count": 78,
   "metadata": {},
   "outputs": [],
   "source": [
    "class BinarySearchTree:\n",
    "    def __init__(self):\n",
    "        self.root = None\n",
    "\n",
    "    def insert(self, key):\n",
    "        if self.root is None:\n",
    "            self.root = Node(key)\n",
    "        else:\n",
    "            self._insert(self.root, key)\n",
    "\n",
    "    def _insert(self, root, key):\n",
    "\n",
    "        # Not including Duplicates\n",
    "\n",
    "        if root is None:\n",
    "            return Node(key)\n",
    "        else:\n",
    "            if root.val < key:\n",
    "                root.right = self._insert(root.right, key)\n",
    "            elif root.val > key:\n",
    "                root.left = self._insert(root.left, key)\n",
    "        return root\n",
    "\n",
    "    def search(self, key):\n",
    "        return self._search(self.root, key)\n",
    "\n",
    "    def _search(self, root, key):\n",
    "        if root is None or root.val == key:\n",
    "            return root\n",
    "        elif root.val < key:\n",
    "            return self._search(root.right, key)\n",
    "        else:\n",
    "            return self._search(root.left, key)\n",
    "\n",
    "    '''\n",
    "    def display(self):\n",
    "        self._display(self.root)\n",
    "\n",
    "    def _display(self, root):\n",
    "        if root == None:\n",
    "            return\n",
    "        print(root.val)\n",
    "        self._display(root.left)\n",
    "        self._display(root.right)\n",
    "    '''\n",
    "\n",
    "    def inOrder(self):  # Left Root Right\n",
    "        return self._inOrder(self.root)\n",
    "\n",
    "    def _inOrder(self, root):\n",
    "        if root == None:\n",
    "            return []\n",
    "        values = []\n",
    "        values.extend(self._inOrder(root.left))\n",
    "        values.append(root.val)\n",
    "        values.extend(self._inOrder(root.right))\n",
    "        return values\n",
    "\n",
    "    def preOrder(self):  # Root Left Right\n",
    "        return self._preOrder(self.root)\n",
    "\n",
    "    def _preOrder(self, root):\n",
    "        if root == None:\n",
    "            return []\n",
    "        values = []\n",
    "        values.append(root.val)\n",
    "        values.extend(self._preOrder(root.left))\n",
    "        values.extend(self._preOrder(root.right))\n",
    "        return values\n",
    "\n",
    "    def postOrder(self):  # Left Right Root\n",
    "        return self._postOrder(self.root)\n",
    "\n",
    "    def _postOrder(self, root):\n",
    "        if root == None:\n",
    "            return []\n",
    "        values = []\n",
    "        values.extend(self._postOrder(root.left))\n",
    "        values.extend(self._postOrder(root.right))\n",
    "        values.append(root.val)\n",
    "        return values\n"
   ]
  },
  {
   "cell_type": "code",
   "execution_count": 80,
   "metadata": {},
   "outputs": [
    {
     "name": "stdout",
     "output_type": "stream",
     "text": [
      "[1, 14, 20, 30, 36, 49, 50, 100]\n",
      "[50, 30, 20, 1, 14, 36, 49, 100]\n",
      "[14, 1, 20, 49, 36, 30, 100, 50]\n"
     ]
    }
   ],
   "source": [
    "bst = BinarySearchTree()\n",
    "None\n",
    "bst.insert(50)\n",
    "bst.insert(30)\n",
    "bst.insert(30)\n",
    "bst.insert(20)\n",
    "bst.insert(36)\n",
    "bst.insert(49)\n",
    "bst.insert(100)\n",
    "bst.insert(1)\n",
    "bst.insert(14)\n",
    "print(bst.inOrder())\n",
    "print(bst.preOrder())\n",
    "print(bst.postOrder())"
   ]
  },
  {
   "cell_type": "code",
   "execution_count": null,
   "metadata": {},
   "outputs": [],
   "source": []
  }
 ],
 "metadata": {
  "kernelspec": {
   "display_name": "Python 3",
   "language": "python",
   "name": "python3"
  },
  "language_info": {
   "codemirror_mode": {
    "name": "ipython",
    "version": 3
   },
   "file_extension": ".py",
   "mimetype": "text/x-python",
   "name": "python",
   "nbconvert_exporter": "python",
   "pygments_lexer": "ipython3",
   "version": "3.12.1"
  }
 },
 "nbformat": 4,
 "nbformat_minor": 2
}
